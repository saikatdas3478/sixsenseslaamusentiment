{
 "cells": [
  {
   "cell_type": "code",
   "execution_count": 2,
   "metadata": {},
   "outputs": [],
   "source": [
    "import pandas as pd\n",
    "import re\n",
    "import requests\n",
    "from bs4 import BeautifulSoup\n",
    "from nltk.tokenize import word_tokenize, sent_tokenize\n",
    "from nltk.tag import pos_tag\n",
    "from nltk.stem import WordNetLemmatizer\n",
    "from nltk.corpus import wordnet, stopwords\n",
    "from vaderSentiment.vaderSentiment import SentimentIntensityAnalyzer\n",
    "import plotly.express as px\n",
    "from wordcloud import WordCloud, STOPWORDS\n",
    "import matplotlib.pyplot as plt"
   ]
  },
  {
   "cell_type": "code",
   "execution_count": 87,
   "metadata": {},
   "outputs": [
    {
     "name": "stdout",
     "output_type": "stream",
     "text": [
      "Review collected: 10\n",
      "Review collected: 20\n",
      "Review collected: 30\n",
      "Review collected: 40\n",
      "Review collected: 50\n",
      "Review collected: 60\n",
      "Review collected: 70\n",
      "Review collected: 80\n",
      "Review collected: 90\n",
      "Review collected: 100\n",
      "Review collected: 110\n",
      "Review collected: 120\n",
      "Review collected: 130\n",
      "Review collected: 140\n",
      "Review collected: 150\n",
      "Review collected: 160\n",
      "Review collected: 170\n",
      "Review collected: 180\n",
      "Review collected: 190\n",
      "Review collected: 200\n",
      "Review collected: 210\n",
      "Review collected: 220\n",
      "Review collected: 230\n",
      "Review collected: 240\n",
      "Review collected: 250\n",
      "Review collected: 260\n",
      "Review collected: 270\n",
      "Review collected: 280\n",
      "Review collected: 290\n",
      "Review collected: 300\n",
      "Review collected: 310\n",
      "Review collected: 320\n",
      "Review collected: 330\n",
      "Review collected: 340\n",
      "Review collected: 350\n",
      "Review collected: 360\n",
      "Review collected: 370\n",
      "Review collected: 380\n",
      "Review collected: 390\n",
      "Review collected: 400\n",
      "Review collected: 410\n",
      "Review collected: 420\n",
      "Review collected: 430\n",
      "Review collected: 440\n",
      "Review collected: 450\n",
      "Review collected: 460\n",
      "Review collected: 470\n",
      "Review collected: 480\n",
      "Review collected: 490\n",
      "Review collected: 500\n",
      "Review collected: 510\n",
      "Review collected: 520\n",
      "Review collected: 530\n",
      "Review collected: 540\n",
      "Review collected: 550\n",
      "Review collected: 560\n",
      "Review collected: 570\n",
      "Review collected: 580\n",
      "Review collected: 590\n",
      "Review collected: 600\n",
      "Review collected: 610\n",
      "Review collected: 620\n",
      "Review collected: 630\n",
      "Review collected: 640\n",
      "Review collected: 650\n",
      "Review collected: 660\n",
      "Review collected: 670\n",
      "Review collected: 680\n",
      "Review collected: 690\n",
      "Review collected: 700\n",
      "Review collected: 710\n",
      "Review collected: 720\n",
      "Review collected: 730\n",
      "Review collected: 740\n",
      "Review collected: 750\n",
      "Review collected: 760\n",
      "Review collected: 770\n",
      "Review collected: 780\n",
      "Review collected: 790\n",
      "Review collected: 800\n",
      "Review collected: 810\n",
      "Review collected: 820\n",
      "Review collected: 830\n",
      "Review collected: 840\n",
      "Review collected: 850\n",
      "Review collected: 860\n",
      "Review collected: 870\n",
      "Review collected: 880\n",
      "Review collected: 890\n",
      "Review collected: 900\n",
      "Review collected: 910\n",
      "Review collected: 920\n",
      "Review collected: 930\n",
      "Review collected: 940\n",
      "Review collected: 950\n",
      "Review collected: 960\n",
      "Review collected: 970\n",
      "Review collected: 980\n",
      "Review collected: 990\n",
      "Review collected: 1000\n",
      "Review collected: 1010\n",
      "Review collected: 1020\n",
      "Review collected: 1030\n",
      "Review collected: 1040\n",
      "Review collected: 1050\n",
      "Review collected: 1060\n",
      "Review collected: 1070\n",
      "Review collected: 1080\n",
      "Review collected: 1090\n",
      "Review collected: 1100\n",
      "Review collected: 1110\n",
      "Review collected: 1120\n",
      "Review collected: 1130\n",
      "Review collected: 1140\n",
      "Review collected: 1150\n",
      "Review collected: 1160\n",
      "Review collected: 1170\n",
      "Review collected: 1180\n",
      "Review collected: 1190\n",
      "Review collected: 1200\n",
      "Review collected: 1210\n",
      "Review collected: 1220\n",
      "Review collected: 1230\n",
      "Review collected: 1240\n",
      "Review collected: 1250\n",
      "Review collected: 1260\n",
      "Review collected: 1270\n",
      "Review collected: 1280\n",
      "Review collected: 1290\n",
      "Review collected: 1300\n",
      "Review collected: 1310\n",
      "Review collected: 1320\n",
      "Review collected: 1330\n",
      "Review collected: 1340\n",
      "Review collected: 1350\n",
      "Review collected: 1360\n",
      "Review collected: 1370\n",
      "Review collected: 1380\n",
      "Review collected: 1390\n",
      "Review collected: 1400\n",
      "Review collected: 1410\n",
      "Review collected: 1420\n",
      "Review collected: 1430\n",
      "Review collected: 1440\n",
      "Review collected: 1450\n",
      "Review collected: 1460\n",
      "Review collected: 1470\n",
      "Review collected: 1480\n",
      "Review collected: 1490\n",
      "Review collected: 1500\n",
      "Review collected: 1510\n",
      "Review collected: 1520\n",
      "Review collected: 1530\n",
      "Review collected: 1540\n",
      "Review collected: 1550\n",
      "Review collected: 1560\n",
      "Review collected: 1570\n",
      "Review collected: 1570\n",
      "Review collected: 1580\n",
      "Review collected: 1590\n",
      "Review collected: 1600\n",
      "Review collected: 1610\n",
      "Review collected: 1620\n",
      "Review collected: 1630\n",
      "Review collected: 1640\n",
      "Review collected: 1650\n",
      "Review collected: 1660\n",
      "Review collected: 1670\n",
      "Review collected: 1680\n",
      "Review collected: 1690\n",
      "Review collected: 1700\n",
      "Review collected: 1710\n",
      "Review collected: 1720\n",
      "Review collected: 1730\n",
      "Review collected: 1740\n",
      "Review collected: 1750\n",
      "Review collected: 1760\n",
      "Review collected: 1770\n",
      "Review collected: 1780\n",
      "Review collected: 1790\n",
      "Review collected: 1800\n",
      "Review collected: 1810\n",
      "Review collected: 1820\n",
      "Review collected: 1830\n",
      "Review collected: 1840\n",
      "Review collected: 1850\n",
      "Review collected: 1860\n",
      "Review collected: 1870\n",
      "Review collected: 1880\n",
      "Review collected: 1890\n",
      "Review collected: 1900\n",
      "Review collected: 1910\n",
      "Review collected: 1920\n",
      "Review collected: 1930\n",
      "Review collected: 1940\n",
      "Review collected: 1950\n",
      "Review collected: 1960\n",
      "Review collected: 1970\n",
      "Review collected: 1980\n",
      "Review collected: 1990\n",
      "Review collected: 2000\n",
      "Review collected: 2010\n",
      "Review collected: 2020\n",
      "Review collected: 2030\n",
      "Review collected: 2040\n",
      "Review collected: 2050\n",
      "Review collected: 2060\n",
      "Review collected: 2070\n",
      "Review collected: 2080\n",
      "Review collected: 2090\n",
      "Review collected: 2100\n",
      "Review collected: 2110\n",
      "Review collected: 2120\n",
      "Review collected: 2130\n",
      "Review collected: 2140\n",
      "Review collected: 2150\n",
      "Review collected: 2160\n",
      "Review collected: 2170\n",
      "Review collected: 2180\n",
      "Review collected: 2190\n",
      "Review collected: 2200\n",
      "Review collected: 2210\n",
      "Review collected: 2220\n",
      "Review collected: 2230\n",
      "Review collected: 2240\n",
      "Review collected: 2250\n",
      "Review collected: 2260\n",
      "Review collected: 2270\n",
      "Review collected: 2280\n",
      "Review collected: 2290\n",
      "Review collected: 2300\n",
      "Review collected: 2310\n",
      "Review collected: 2320\n",
      "Review collected: 2330\n",
      "Review collected: 2340\n",
      "Review collected: 2350\n",
      "Review collected: 2360\n",
      "Review collected: 2370\n",
      "Review collected: 2380\n",
      "Review collected: 2390\n",
      "Review collected: 2400\n",
      "Review collected: 2410\n",
      "Review collected: 2420\n",
      "Review collected: 2430\n",
      "Review collected: 2440\n",
      "Review collected: 2450\n",
      "Review collected: 2460\n",
      "Review collected: 2470\n",
      "Review collected: 2480\n",
      "Review collected: 2490\n",
      "Review collected: 2500\n",
      "Review collected: 2510\n",
      "Review collected: 2520\n",
      "Review collected: 2530\n",
      "Review collected: 2540\n",
      "Review collected: 2550\n",
      "Review collected: 2560\n",
      "Review collected: 2570\n",
      "Review collected: 2580\n",
      "Review collected: 2590\n",
      "Review collected: 2600\n",
      "Review collected: 2610\n",
      "Review collected: 2620\n",
      "Review collected: 2630\n",
      "Review collected: 2640\n",
      "Review collected: 2650\n",
      "Review collected: 2660\n",
      "Review collected: 2670\n",
      "Review collected: 2680\n",
      "Review collected: 2690\n",
      "Review collected: 2700\n",
      "Review collected: 2710\n",
      "Review collected: 2720\n",
      "Review collected: 2730\n",
      "Review collected: 2740\n",
      "Review collected: 2750\n",
      "Review collected: 2760\n",
      "Review collected: 2770\n",
      "Review collected: 2780\n",
      "Review collected: 2790\n",
      "Review collected: 2800\n",
      "Review collected: 2810\n",
      "Review collected: 2820\n",
      "Review collected: 2830\n",
      "Review collected: 2840\n",
      "Review collected: 2850\n",
      "Review collected: 2860\n",
      "Review collected: 2870\n",
      "Review collected: 2880\n",
      "Review collected: 2890\n",
      "Review collected: 2900\n",
      "Review collected: 2910\n",
      "Review collected: 2913\n",
      "Review collected: 2913\n",
      "Review collected: 2913\n",
      "Review collected: 2913\n",
      "Review collected: 2913\n",
      "Review collected: 2913\n",
      "Review collected: 2913\n",
      "Review collected: 2913\n",
      "Review collected: 2913\n",
      "Review collected: 2913\n",
      "Review collected: 2913\n",
      "Review collected: 2913\n",
      "Review collected: 2913\n",
      "Review collected: 2913\n",
      "Review collected: 2913\n",
      "Review collected: 2913\n",
      "Review collected: 2913\n",
      "Review collected: 2913\n",
      "Review collected: 2913\n",
      "Review collected: 2913\n",
      "Review collected: 2913\n",
      "Review collected: 2913\n",
      "Review collected: 2913\n",
      "Review collected: 2913\n",
      "Review collected: 2913\n",
      "Review collected: 2913\n",
      "Review collected: 2913\n",
      "Review collected: 2913\n",
      "Review collected: 2913\n",
      "Review collected: 2913\n",
      "Review collected: 2913\n",
      "Review collected: 2913\n",
      "Review collected: 2913\n",
      "Review collected: 2913\n",
      "Review collected: 2913\n",
      "Review collected: 2913\n",
      "Review collected: 2913\n",
      "Review collected: 2913\n",
      "Review collected: 2913\n",
      "Review collected: 2913\n",
      "Review collected: 2913\n",
      "Review collected: 2913\n",
      "Review collected: 2913\n",
      "Review collected: 2913\n",
      "Review collected: 2913\n",
      "Review collected: 2913\n",
      "Review collected: 2913\n",
      "Review collected: 2913\n",
      "Review collected: 2913\n",
      "Review collected: 2913\n",
      "Review collected: 2913\n",
      "Review collected: 2913\n",
      "Review collected: 2913\n",
      "Review collected: 2913\n",
      "Review collected: 2913\n",
      "Review collected: 2913\n",
      "Review collected: 2913\n",
      "Review collected: 2913\n",
      "Review collected: 2913\n",
      "Review collected: 2913\n",
      "Review collected: 2913\n",
      "Review collected: 2913\n",
      "Review collected: 2913\n",
      "Review collected: 2913\n",
      "Review collected: 2913\n",
      "Review collected: 2913\n",
      "Review collected: 2913\n",
      "Review collected: 2913\n",
      "Review collected: 2913\n",
      "Review collected: 2913\n",
      "Review collected: 2913\n",
      "Review collected: 2913\n",
      "Review collected: 2913\n",
      "Review collected: 2913\n",
      "Review collected: 2913\n",
      "Review collected: 2913\n",
      "Review collected: 2913\n",
      "Review collected: 2913\n",
      "Review collected: 2913\n",
      "Review collected: 2913\n",
      "Review collected: 2913\n",
      "Review collected: 2913\n",
      "Review collected: 2913\n",
      "Review collected: 2913\n",
      "Review collected: 2913\n",
      "Review collected: 2913\n",
      "Review collected: 2913\n",
      "Review collected: 2913\n",
      "Review collected: 2913\n",
      "Review collected: 2913\n",
      "Review collected: 2913\n",
      "Review collected: 2913\n",
      "Review collected: 2913\n",
      "Review collected: 2913\n",
      "Review collected: 2913\n",
      "Review collected: 2913\n",
      "Review collected: 2913\n",
      "Review collected: 2913\n"
     ]
    }
   ],
   "source": [
    "#Fetching data from Tripadvisor for Six Senses Laamu\n",
    "reviews = []\n",
    "for page in range(0, 2920, 10):\n",
    "    headers = {'User-Agent':'Mozilla/5.0 (Windows NT 6.3; Win 64 ; x64) Apple WeKit /537.36(KHTML , like Gecko) Chrome/80.0.3987.162 Safari/537.36'}\n",
    "    source = requests.get(f'https://www.tripadvisor.in/Hotel_Review-g2050017-d2045398-Reviews-or{page}-Six_Senses_Laamu-Olhuveli_Island.html', \n",
    "                          headers = headers)\n",
    "    first_container = BeautifulSoup(source.text, 'html.parser')\n",
    "    for review in first_container.find_all('span', class_ = 'QewHA H4 _a'):\n",
    "        reviews.append(review.text)\n",
    "    \n",
    "print(f'Review collected: {len(reviews)}')\n"
   ]
  },
  {
   "cell_type": "code",
   "execution_count": 88,
   "metadata": {},
   "outputs": [
    {
     "data": {
      "text/html": [
       "<div>\n",
       "<style scoped>\n",
       "    .dataframe tbody tr th:only-of-type {\n",
       "        vertical-align: middle;\n",
       "    }\n",
       "\n",
       "    .dataframe tbody tr th {\n",
       "        vertical-align: top;\n",
       "    }\n",
       "\n",
       "    .dataframe thead th {\n",
       "        text-align: right;\n",
       "    }\n",
       "</style>\n",
       "<table border=\"1\" class=\"dataframe\">\n",
       "  <thead>\n",
       "    <tr style=\"text-align: right;\">\n",
       "      <th></th>\n",
       "      <th>Review</th>\n",
       "    </tr>\n",
       "  </thead>\n",
       "  <tbody>\n",
       "    <tr>\n",
       "      <th>0</th>\n",
       "      <td>For us it is a very special and the most wonde...</td>\n",
       "    </tr>\n",
       "    <tr>\n",
       "      <th>1</th>\n",
       "      <td>Where to start… Six Senses Laamu was simply ex...</td>\n",
       "    </tr>\n",
       "    <tr>\n",
       "      <th>2</th>\n",
       "      <td>My second time to this resort, the resort is i...</td>\n",
       "    </tr>\n",
       "    <tr>\n",
       "      <th>3</th>\n",
       "      <td>We had the best time at six senses, a most bea...</td>\n",
       "    </tr>\n",
       "    <tr>\n",
       "      <th>4</th>\n",
       "      <td>The experience of staying in Six Senses Laamu ...</td>\n",
       "    </tr>\n",
       "  </tbody>\n",
       "</table>\n",
       "</div>"
      ],
      "text/plain": [
       "                                              Review\n",
       "0  For us it is a very special and the most wonde...\n",
       "1  Where to start… Six Senses Laamu was simply ex...\n",
       "2  My second time to this resort, the resort is i...\n",
       "3  We had the best time at six senses, a most bea...\n",
       "4  The experience of staying in Six Senses Laamu ..."
      ]
     },
     "execution_count": 88,
     "metadata": {},
     "output_type": "execute_result"
    }
   ],
   "source": [
    "df = pd.DataFrame({'Review': reviews})\n",
    "df.to_csv('Six Senses Laamu sentiment.csv', index=False)\n",
    "df.head()"
   ]
  },
  {
   "cell_type": "code",
   "execution_count": 4,
   "metadata": {},
   "outputs": [
    {
     "data": {
      "text/html": [
       "<div>\n",
       "<style scoped>\n",
       "    .dataframe tbody tr th:only-of-type {\n",
       "        vertical-align: middle;\n",
       "    }\n",
       "\n",
       "    .dataframe tbody tr th {\n",
       "        vertical-align: top;\n",
       "    }\n",
       "\n",
       "    .dataframe thead th {\n",
       "        text-align: right;\n",
       "    }\n",
       "</style>\n",
       "<table border=\"1\" class=\"dataframe\">\n",
       "  <thead>\n",
       "    <tr style=\"text-align: right;\">\n",
       "      <th></th>\n",
       "      <th>Review</th>\n",
       "    </tr>\n",
       "  </thead>\n",
       "  <tbody>\n",
       "    <tr>\n",
       "      <th>0</th>\n",
       "      <td>For us it is a very special and the most wonde...</td>\n",
       "    </tr>\n",
       "    <tr>\n",
       "      <th>1</th>\n",
       "      <td>Where to start… Six Senses Laamu was simply ex...</td>\n",
       "    </tr>\n",
       "    <tr>\n",
       "      <th>2</th>\n",
       "      <td>My second time to this resort, the resort is i...</td>\n",
       "    </tr>\n",
       "    <tr>\n",
       "      <th>3</th>\n",
       "      <td>We had the best time at six senses, a most bea...</td>\n",
       "    </tr>\n",
       "    <tr>\n",
       "      <th>4</th>\n",
       "      <td>The experience of staying in Six Senses Laamu ...</td>\n",
       "    </tr>\n",
       "  </tbody>\n",
       "</table>\n",
       "</div>"
      ],
      "text/plain": [
       "                                              Review\n",
       "0  For us it is a very special and the most wonde...\n",
       "1  Where to start… Six Senses Laamu was simply ex...\n",
       "2  My second time to this resort, the resort is i...\n",
       "3  We had the best time at six senses, a most bea...\n",
       "4  The experience of staying in Six Senses Laamu ..."
      ]
     },
     "execution_count": 4,
     "metadata": {},
     "output_type": "execute_result"
    }
   ],
   "source": [
    "df = pd.read_csv('Six Senses Laamu sentiment.csv')\n",
    "df.head()"
   ]
  },
  {
   "cell_type": "code",
   "execution_count": 5,
   "metadata": {},
   "outputs": [],
   "source": [
    "#Cleaning the text of any digit, extra space or punctuation\n",
    "def clear_text(text):\n",
    "    text = sent_tokenize(text.lower())\n",
    "    text = ' '.join(text)\n",
    "    text = re.sub('[^a-z\\s]+', '', text)\n",
    "    return text\n",
    "\n",
    "df['Review (cleared)'] = df['Review'].apply(clear_text)"
   ]
  },
  {
   "cell_type": "code",
   "execution_count": 6,
   "metadata": {},
   "outputs": [
    {
     "name": "stdout",
     "output_type": "stream",
     "text": [
      "Normal Review: For us it is a very special and the most wonderfull resort you can find on earth.  The island itself it‘s magical and the moment you reach there and removing your shoes, you‘re in another, a better world.  All the staff is an unbeliveable team, which feels like one big family. This time, especially Shah, our GEM, made it, to such an memorable and unforgetable stay once again. But it‘s really difficult to find words to descripe all this, you have to go there an just feel it!\n",
      "Cleared Review: for us it is a very special and the most wonderfull resort you can find on earth the island itself its magical and the moment you reach there and removing your shoes youre in another a better world all the staff is an unbeliveable team which feels like one big family this time especially shah our gem made it to such an memorable and unforgetable stay once again but its really difficult to find words to descripe all this you have to go there an just feel it\n"
     ]
    }
   ],
   "source": [
    "print('Normal Review: ' + df['Review'][0])\n",
    "print('Cleared Review: ' + clear_text(df['Review (cleared)'][0]))"
   ]
  },
  {
   "cell_type": "code",
   "execution_count": 7,
   "metadata": {},
   "outputs": [],
   "source": [
    "#Tokenising, pos_tagging, stopwords removal and lemmatising the sentence\n",
    "\n",
    "lm = WordNetLemmatizer()\n",
    "pos_dict = {'N': wordnet.NOUN, 'V': wordnet.VERB, 'R': wordnet.ADV, 'A': wordnet.ADJ}\n",
    "\n",
    "def text_preprocess(text):\n",
    "    pos_text = pos_tag(word_tokenize(text))\n",
    "    tagged_list = []\n",
    "    lemmatized = ''\n",
    "    for word, tag in pos_text:\n",
    "        if word not in set(stopwords.words('english')):\n",
    "            tagged_list.append(tuple([word, pos_dict.get(tag[0])]))\n",
    "    for word, tag in tagged_list:\n",
    "        if not tag:\n",
    "            lemmatized += ' ' + word\n",
    "        else:\n",
    "            lemmatized += ' ' + lm.lemmatize(word, pos = tag)\n",
    "    return lemmatized\n",
    "\n",
    "    \n",
    "    \n",
    "df['Review (Lemma)'] = df['Review (cleared)'].apply(text_preprocess)"
   ]
  },
  {
   "cell_type": "code",
   "execution_count": 8,
   "metadata": {},
   "outputs": [
    {
     "name": "stdout",
     "output_type": "stream",
     "text": [
      "Normal Review: 5 out of 5   Great service from start to finish. Fantastic restaurants and loads of choice with some fantastic themed nights.  Personal service through your stay and big thanks to Ath Har our GEM.  Our ocean beach villa was amazing and very private. Breakfast in the villa was an added bonus as it is served a bit later than in the restaurant.  Loads to do if you are the active type. We mainly chilled the entire time but the fishing, snorkelling and cookery classed were great fun.   Highly recommend this 5 (6 if we could officially rate it) star resort\n",
      "Lemmatized Review:  great service start finish fantastic restaurant load choice fantastic theme night personal service stay big thanks ath har gem ocean beach villa amaze private breakfast villa add bonus serve bit later restaurant load active type mainly chill entire time fish snorkelling cookery class great fun highly recommend could officially rate star resort\n"
     ]
    }
   ],
   "source": [
    "print('Normal Review: ' + df['Review'][11])\n",
    "print('Lemmatized Review: ' + text_preprocess(df['Review (Lemma)'][11]))"
   ]
  },
  {
   "cell_type": "code",
   "execution_count": 9,
   "metadata": {},
   "outputs": [],
   "source": [
    "#Analysing the sentiment of reviews based on vadersentiment analyser\n",
    "sia = SentimentIntensityAnalyzer()\n",
    "def sentiment_intensity_analyser(text):\n",
    "    score_dict = sia.polarity_scores(text)\n",
    "    if score_dict.get('compound') > 0.05:\n",
    "        return 'Positive'\n",
    "    elif score_dict.get('compound') < -0.05:\n",
    "        return 'Negative'\n",
    "    else:\n",
    "        return 'Neutral'\n",
    "    \n",
    "df['Polarity score'] = df['Review (Lemma)'].apply(lambda x: float(sia.polarity_scores(x).get('compound')))\n",
    "df['Sentiment Overview'] = df['Review (Lemma)'].apply(sentiment_intensity_analyser)"
   ]
  },
  {
   "cell_type": "code",
   "execution_count": 10,
   "metadata": {},
   "outputs": [
    {
     "name": "stdout",
     "output_type": "stream",
     "text": [
      "Review: 5 out of 5   Great service from start to finish. Fantastic restaurants and loads of choice with some fantastic themed nights.  Personal service through your stay and big thanks to Ath Har our GEM.  Our ocean beach villa was amazing and very private. Breakfast in the villa was an added bonus as it is served a bit later than in the restaurant.  Loads to do if you are the active type. We mainly chilled the entire time but the fishing, snorkelling and cookery classed were great fun.   Highly recommend this 5 (6 if we could officially rate it) star resort\n",
      "{'neg': 0.0, 'neu': 0.754, 'pos': 0.246, 'compound': 0.9806}\n"
     ]
    }
   ],
   "source": [
    "#Checking polarity of score of single review\n",
    "print('Review: '+ df['Review'][11])\n",
    "print(sia.polarity_scores(df['Review'][11]))"
   ]
  },
  {
   "cell_type": "code",
   "execution_count": 11,
   "metadata": {},
   "outputs": [
    {
     "data": {
      "text/html": [
       "<div>\n",
       "<style scoped>\n",
       "    .dataframe tbody tr th:only-of-type {\n",
       "        vertical-align: middle;\n",
       "    }\n",
       "\n",
       "    .dataframe tbody tr th {\n",
       "        vertical-align: top;\n",
       "    }\n",
       "\n",
       "    .dataframe thead th {\n",
       "        text-align: right;\n",
       "    }\n",
       "</style>\n",
       "<table border=\"1\" class=\"dataframe\">\n",
       "  <thead>\n",
       "    <tr style=\"text-align: right;\">\n",
       "      <th></th>\n",
       "      <th>Sentiment Overview</th>\n",
       "      <th>count</th>\n",
       "    </tr>\n",
       "  </thead>\n",
       "  <tbody>\n",
       "    <tr>\n",
       "      <th>0</th>\n",
       "      <td>Positive</td>\n",
       "      <td>2893</td>\n",
       "    </tr>\n",
       "    <tr>\n",
       "      <th>1</th>\n",
       "      <td>Negative</td>\n",
       "      <td>17</td>\n",
       "    </tr>\n",
       "    <tr>\n",
       "      <th>2</th>\n",
       "      <td>Neutral</td>\n",
       "      <td>3</td>\n",
       "    </tr>\n",
       "  </tbody>\n",
       "</table>\n",
       "</div>"
      ],
      "text/plain": [
       "  Sentiment Overview  count\n",
       "0           Positive   2893\n",
       "1           Negative     17\n",
       "2            Neutral      3"
      ]
     },
     "execution_count": 11,
     "metadata": {},
     "output_type": "execute_result"
    }
   ],
   "source": [
    "sentiment_df = pd.DataFrame(df['Sentiment Overview'].value_counts()).reset_index()\n",
    "sentiment_df"
   ]
  },
  {
   "cell_type": "code",
   "execution_count": 12,
   "metadata": {},
   "outputs": [
    {
     "data": {
      "application/vnd.plotly.v1+json": {
       "config": {
        "plotlyServerURL": "https://plot.ly"
       },
       "data": [
        {
         "domain": {
          "x": [
           0,
           1
          ],
          "y": [
           0,
           1
          ]
         },
         "hovertemplate": "Sentiment Overview=%{label}<br>count=%{value}<extra></extra>",
         "labels": [
          "Positive",
          "Negative",
          "Neutral"
         ],
         "legendgroup": "",
         "marker": {
          "colors": [
           "gold",
           "red",
           "green"
          ],
          "line": {
           "color": "black",
           "width": 1.5
          }
         },
         "name": "",
         "showlegend": true,
         "type": "pie",
         "values": [
          2893,
          17,
          3
         ]
        }
       ],
       "layout": {
        "height": 600,
        "legend": {
         "tracegroupgap": 0
        },
        "template": {
         "data": {
          "bar": [
           {
            "error_x": {
             "color": "#2a3f5f"
            },
            "error_y": {
             "color": "#2a3f5f"
            },
            "marker": {
             "line": {
              "color": "#E5ECF6",
              "width": 0.5
             },
             "pattern": {
              "fillmode": "overlay",
              "size": 10,
              "solidity": 0.2
             }
            },
            "type": "bar"
           }
          ],
          "barpolar": [
           {
            "marker": {
             "line": {
              "color": "#E5ECF6",
              "width": 0.5
             },
             "pattern": {
              "fillmode": "overlay",
              "size": 10,
              "solidity": 0.2
             }
            },
            "type": "barpolar"
           }
          ],
          "carpet": [
           {
            "aaxis": {
             "endlinecolor": "#2a3f5f",
             "gridcolor": "white",
             "linecolor": "white",
             "minorgridcolor": "white",
             "startlinecolor": "#2a3f5f"
            },
            "baxis": {
             "endlinecolor": "#2a3f5f",
             "gridcolor": "white",
             "linecolor": "white",
             "minorgridcolor": "white",
             "startlinecolor": "#2a3f5f"
            },
            "type": "carpet"
           }
          ],
          "choropleth": [
           {
            "colorbar": {
             "outlinewidth": 0,
             "ticks": ""
            },
            "type": "choropleth"
           }
          ],
          "contour": [
           {
            "colorbar": {
             "outlinewidth": 0,
             "ticks": ""
            },
            "colorscale": [
             [
              0,
              "#0d0887"
             ],
             [
              0.1111111111111111,
              "#46039f"
             ],
             [
              0.2222222222222222,
              "#7201a8"
             ],
             [
              0.3333333333333333,
              "#9c179e"
             ],
             [
              0.4444444444444444,
              "#bd3786"
             ],
             [
              0.5555555555555556,
              "#d8576b"
             ],
             [
              0.6666666666666666,
              "#ed7953"
             ],
             [
              0.7777777777777778,
              "#fb9f3a"
             ],
             [
              0.8888888888888888,
              "#fdca26"
             ],
             [
              1,
              "#f0f921"
             ]
            ],
            "type": "contour"
           }
          ],
          "contourcarpet": [
           {
            "colorbar": {
             "outlinewidth": 0,
             "ticks": ""
            },
            "type": "contourcarpet"
           }
          ],
          "heatmap": [
           {
            "colorbar": {
             "outlinewidth": 0,
             "ticks": ""
            },
            "colorscale": [
             [
              0,
              "#0d0887"
             ],
             [
              0.1111111111111111,
              "#46039f"
             ],
             [
              0.2222222222222222,
              "#7201a8"
             ],
             [
              0.3333333333333333,
              "#9c179e"
             ],
             [
              0.4444444444444444,
              "#bd3786"
             ],
             [
              0.5555555555555556,
              "#d8576b"
             ],
             [
              0.6666666666666666,
              "#ed7953"
             ],
             [
              0.7777777777777778,
              "#fb9f3a"
             ],
             [
              0.8888888888888888,
              "#fdca26"
             ],
             [
              1,
              "#f0f921"
             ]
            ],
            "type": "heatmap"
           }
          ],
          "heatmapgl": [
           {
            "colorbar": {
             "outlinewidth": 0,
             "ticks": ""
            },
            "colorscale": [
             [
              0,
              "#0d0887"
             ],
             [
              0.1111111111111111,
              "#46039f"
             ],
             [
              0.2222222222222222,
              "#7201a8"
             ],
             [
              0.3333333333333333,
              "#9c179e"
             ],
             [
              0.4444444444444444,
              "#bd3786"
             ],
             [
              0.5555555555555556,
              "#d8576b"
             ],
             [
              0.6666666666666666,
              "#ed7953"
             ],
             [
              0.7777777777777778,
              "#fb9f3a"
             ],
             [
              0.8888888888888888,
              "#fdca26"
             ],
             [
              1,
              "#f0f921"
             ]
            ],
            "type": "heatmapgl"
           }
          ],
          "histogram": [
           {
            "marker": {
             "pattern": {
              "fillmode": "overlay",
              "size": 10,
              "solidity": 0.2
             }
            },
            "type": "histogram"
           }
          ],
          "histogram2d": [
           {
            "colorbar": {
             "outlinewidth": 0,
             "ticks": ""
            },
            "colorscale": [
             [
              0,
              "#0d0887"
             ],
             [
              0.1111111111111111,
              "#46039f"
             ],
             [
              0.2222222222222222,
              "#7201a8"
             ],
             [
              0.3333333333333333,
              "#9c179e"
             ],
             [
              0.4444444444444444,
              "#bd3786"
             ],
             [
              0.5555555555555556,
              "#d8576b"
             ],
             [
              0.6666666666666666,
              "#ed7953"
             ],
             [
              0.7777777777777778,
              "#fb9f3a"
             ],
             [
              0.8888888888888888,
              "#fdca26"
             ],
             [
              1,
              "#f0f921"
             ]
            ],
            "type": "histogram2d"
           }
          ],
          "histogram2dcontour": [
           {
            "colorbar": {
             "outlinewidth": 0,
             "ticks": ""
            },
            "colorscale": [
             [
              0,
              "#0d0887"
             ],
             [
              0.1111111111111111,
              "#46039f"
             ],
             [
              0.2222222222222222,
              "#7201a8"
             ],
             [
              0.3333333333333333,
              "#9c179e"
             ],
             [
              0.4444444444444444,
              "#bd3786"
             ],
             [
              0.5555555555555556,
              "#d8576b"
             ],
             [
              0.6666666666666666,
              "#ed7953"
             ],
             [
              0.7777777777777778,
              "#fb9f3a"
             ],
             [
              0.8888888888888888,
              "#fdca26"
             ],
             [
              1,
              "#f0f921"
             ]
            ],
            "type": "histogram2dcontour"
           }
          ],
          "mesh3d": [
           {
            "colorbar": {
             "outlinewidth": 0,
             "ticks": ""
            },
            "type": "mesh3d"
           }
          ],
          "parcoords": [
           {
            "line": {
             "colorbar": {
              "outlinewidth": 0,
              "ticks": ""
             }
            },
            "type": "parcoords"
           }
          ],
          "pie": [
           {
            "automargin": true,
            "type": "pie"
           }
          ],
          "scatter": [
           {
            "fillpattern": {
             "fillmode": "overlay",
             "size": 10,
             "solidity": 0.2
            },
            "type": "scatter"
           }
          ],
          "scatter3d": [
           {
            "line": {
             "colorbar": {
              "outlinewidth": 0,
              "ticks": ""
             }
            },
            "marker": {
             "colorbar": {
              "outlinewidth": 0,
              "ticks": ""
             }
            },
            "type": "scatter3d"
           }
          ],
          "scattercarpet": [
           {
            "marker": {
             "colorbar": {
              "outlinewidth": 0,
              "ticks": ""
             }
            },
            "type": "scattercarpet"
           }
          ],
          "scattergeo": [
           {
            "marker": {
             "colorbar": {
              "outlinewidth": 0,
              "ticks": ""
             }
            },
            "type": "scattergeo"
           }
          ],
          "scattergl": [
           {
            "marker": {
             "colorbar": {
              "outlinewidth": 0,
              "ticks": ""
             }
            },
            "type": "scattergl"
           }
          ],
          "scattermapbox": [
           {
            "marker": {
             "colorbar": {
              "outlinewidth": 0,
              "ticks": ""
             }
            },
            "type": "scattermapbox"
           }
          ],
          "scatterpolar": [
           {
            "marker": {
             "colorbar": {
              "outlinewidth": 0,
              "ticks": ""
             }
            },
            "type": "scatterpolar"
           }
          ],
          "scatterpolargl": [
           {
            "marker": {
             "colorbar": {
              "outlinewidth": 0,
              "ticks": ""
             }
            },
            "type": "scatterpolargl"
           }
          ],
          "scatterternary": [
           {
            "marker": {
             "colorbar": {
              "outlinewidth": 0,
              "ticks": ""
             }
            },
            "type": "scatterternary"
           }
          ],
          "surface": [
           {
            "colorbar": {
             "outlinewidth": 0,
             "ticks": ""
            },
            "colorscale": [
             [
              0,
              "#0d0887"
             ],
             [
              0.1111111111111111,
              "#46039f"
             ],
             [
              0.2222222222222222,
              "#7201a8"
             ],
             [
              0.3333333333333333,
              "#9c179e"
             ],
             [
              0.4444444444444444,
              "#bd3786"
             ],
             [
              0.5555555555555556,
              "#d8576b"
             ],
             [
              0.6666666666666666,
              "#ed7953"
             ],
             [
              0.7777777777777778,
              "#fb9f3a"
             ],
             [
              0.8888888888888888,
              "#fdca26"
             ],
             [
              1,
              "#f0f921"
             ]
            ],
            "type": "surface"
           }
          ],
          "table": [
           {
            "cells": {
             "fill": {
              "color": "#EBF0F8"
             },
             "line": {
              "color": "white"
             }
            },
            "header": {
             "fill": {
              "color": "#C8D4E3"
             },
             "line": {
              "color": "white"
             }
            },
            "type": "table"
           }
          ]
         },
         "layout": {
          "annotationdefaults": {
           "arrowcolor": "#2a3f5f",
           "arrowhead": 0,
           "arrowwidth": 1
          },
          "autotypenumbers": "strict",
          "coloraxis": {
           "colorbar": {
            "outlinewidth": 0,
            "ticks": ""
           }
          },
          "colorscale": {
           "diverging": [
            [
             0,
             "#8e0152"
            ],
            [
             0.1,
             "#c51b7d"
            ],
            [
             0.2,
             "#de77ae"
            ],
            [
             0.3,
             "#f1b6da"
            ],
            [
             0.4,
             "#fde0ef"
            ],
            [
             0.5,
             "#f7f7f7"
            ],
            [
             0.6,
             "#e6f5d0"
            ],
            [
             0.7,
             "#b8e186"
            ],
            [
             0.8,
             "#7fbc41"
            ],
            [
             0.9,
             "#4d9221"
            ],
            [
             1,
             "#276419"
            ]
           ],
           "sequential": [
            [
             0,
             "#0d0887"
            ],
            [
             0.1111111111111111,
             "#46039f"
            ],
            [
             0.2222222222222222,
             "#7201a8"
            ],
            [
             0.3333333333333333,
             "#9c179e"
            ],
            [
             0.4444444444444444,
             "#bd3786"
            ],
            [
             0.5555555555555556,
             "#d8576b"
            ],
            [
             0.6666666666666666,
             "#ed7953"
            ],
            [
             0.7777777777777778,
             "#fb9f3a"
            ],
            [
             0.8888888888888888,
             "#fdca26"
            ],
            [
             1,
             "#f0f921"
            ]
           ],
           "sequentialminus": [
            [
             0,
             "#0d0887"
            ],
            [
             0.1111111111111111,
             "#46039f"
            ],
            [
             0.2222222222222222,
             "#7201a8"
            ],
            [
             0.3333333333333333,
             "#9c179e"
            ],
            [
             0.4444444444444444,
             "#bd3786"
            ],
            [
             0.5555555555555556,
             "#d8576b"
            ],
            [
             0.6666666666666666,
             "#ed7953"
            ],
            [
             0.7777777777777778,
             "#fb9f3a"
            ],
            [
             0.8888888888888888,
             "#fdca26"
            ],
            [
             1,
             "#f0f921"
            ]
           ]
          },
          "colorway": [
           "#636efa",
           "#EF553B",
           "#00cc96",
           "#ab63fa",
           "#FFA15A",
           "#19d3f3",
           "#FF6692",
           "#B6E880",
           "#FF97FF",
           "#FECB52"
          ],
          "font": {
           "color": "#2a3f5f"
          },
          "geo": {
           "bgcolor": "white",
           "lakecolor": "white",
           "landcolor": "#E5ECF6",
           "showlakes": true,
           "showland": true,
           "subunitcolor": "white"
          },
          "hoverlabel": {
           "align": "left"
          },
          "hovermode": "closest",
          "mapbox": {
           "style": "light"
          },
          "paper_bgcolor": "white",
          "plot_bgcolor": "#E5ECF6",
          "polar": {
           "angularaxis": {
            "gridcolor": "white",
            "linecolor": "white",
            "ticks": ""
           },
           "bgcolor": "#E5ECF6",
           "radialaxis": {
            "gridcolor": "white",
            "linecolor": "white",
            "ticks": ""
           }
          },
          "scene": {
           "xaxis": {
            "backgroundcolor": "#E5ECF6",
            "gridcolor": "white",
            "gridwidth": 2,
            "linecolor": "white",
            "showbackground": true,
            "ticks": "",
            "zerolinecolor": "white"
           },
           "yaxis": {
            "backgroundcolor": "#E5ECF6",
            "gridcolor": "white",
            "gridwidth": 2,
            "linecolor": "white",
            "showbackground": true,
            "ticks": "",
            "zerolinecolor": "white"
           },
           "zaxis": {
            "backgroundcolor": "#E5ECF6",
            "gridcolor": "white",
            "gridwidth": 2,
            "linecolor": "white",
            "showbackground": true,
            "ticks": "",
            "zerolinecolor": "white"
           }
          },
          "shapedefaults": {
           "line": {
            "color": "#2a3f5f"
           }
          },
          "ternary": {
           "aaxis": {
            "gridcolor": "white",
            "linecolor": "white",
            "ticks": ""
           },
           "baxis": {
            "gridcolor": "white",
            "linecolor": "white",
            "ticks": ""
           },
           "bgcolor": "#E5ECF6",
           "caxis": {
            "gridcolor": "white",
            "linecolor": "white",
            "ticks": ""
           }
          },
          "title": {
           "x": 0.05
          },
          "xaxis": {
           "automargin": true,
           "gridcolor": "white",
           "linecolor": "white",
           "ticks": "",
           "title": {
            "standoff": 15
           },
           "zerolinecolor": "white",
           "zerolinewidth": 2
          },
          "yaxis": {
           "automargin": true,
           "gridcolor": "white",
           "linecolor": "white",
           "ticks": "",
           "title": {
            "standoff": 15
           },
           "zerolinecolor": "white",
           "zerolinewidth": 2
          }
         }
        },
        "title": {
         "text": "Sentiment of Tourists towards Six Senses Laamu"
        },
        "width": 600
       }
      }
     },
     "metadata": {},
     "output_type": "display_data"
    }
   ],
   "source": [
    "#Plotting against the sentiment of tourists\n",
    "color = ['gold', 'red', 'green']\n",
    "\n",
    "fig = px.pie(data_frame=sentiment_df, \n",
    "             values = 'count', \n",
    "             names = 'Sentiment Overview', \n",
    "             title = 'Sentiment of Tourists towards Six Senses Laamu', \n",
    "             width=600, height=600)\n",
    "fig.update_traces(marker = dict(colors = color, line=dict(color = 'black', width = 1.5)))\n",
    "fig.show()"
   ]
  },
  {
   "cell_type": "code",
   "execution_count": 20,
   "metadata": {},
   "outputs": [
    {
     "data": {
      "image/png": "[encoded data removed]",
      "text/plain": [
       "<Figure size 800x600 with 1 Axes>"
      ]
     },
     "metadata": {},
     "output_type": "display_data"
    }
   ],
   "source": [
    "#Making the wordcloud of most used words by the tourists\n",
    "\n",
    "def wordcloud_generator(column):\n",
    "    wordcloud = WordCloud(background_color='white',\n",
    "                          max_words=150,\n",
    "                          max_font_size=30,\n",
    "                          stopwords=set(STOPWORDS),\n",
    "                          min_word_length=4,\n",
    "                          scale = 3,\n",
    "                          random_state = 0)\n",
    "    wordcloud = wordcloud.generate(str(column))\n",
    "    plt.subplots(figsize = (8, 6))\n",
    "    plt.imshow(wordcloud)\n",
    "    plt.axis('off')\n",
    "    plt.show()\n",
    "    \n",
    "wordcloud_generator(df['Review (Lemma)'])\n"
   ]
  },
  {
   "cell_type": "code",
   "execution_count": null,
   "metadata": {},
   "outputs": [],
   "source": []
  }
 ],
 "metadata": {
  "kernelspec": {
   "display_name": "Python 3",
   "language": "python",
   "name": "python3"
  },
  "language_info": {
   "codemirror_mode": {
    "name": "ipython",
    "version": 3
   },
   "file_extension": ".py",
   "mimetype": "text/x-python",
   "name": "python",
   "nbconvert_exporter": "python",
   "pygments_lexer": "ipython3",
   "version": "3.11.6"
  }
 },
 "nbformat": 4,
 "nbformat_minor": 2
}
